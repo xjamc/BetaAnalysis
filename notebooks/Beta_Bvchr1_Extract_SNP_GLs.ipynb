{
 "cells": [
  {
   "cell_type": "markdown",
   "metadata": {},
   "source": [
    "### Beginning analysis of Beta maritima data from chromosome 1"
   ]
  },
  {
   "cell_type": "code",
   "execution_count": 1,
   "metadata": {},
   "outputs": [
    {
     "name": "stderr",
     "output_type": "stream",
     "text": [
      "/mnt/Data/Programs/Anaconda/lib/python3.6/site-packages/h5py/__init__.py:36: FutureWarning: Conversion of the second argument of issubdtype from `float` to `np.floating` is deprecated. In future, it will be treated as `np.float64 == np.dtype(float).type`.\n",
      "  from ._conv import register_converters as _register_converters\n"
     ]
    },
    {
     "name": "stdout",
     "output_type": "stream",
     "text": [
      "scikit-allel 1.1.10\n"
     ]
    }
   ],
   "source": [
    "import numpy as np\n",
    "import zarr\n",
    "import numcodecs\n",
    "import allel; print('scikit-allel', allel.__version__)"
   ]
  },
  {
   "cell_type": "markdown",
   "metadata": {},
   "source": [
    "I am beginning this analysis with a conversion of the vcf data to a compressed zarr directory. This type of file can always have new chromosomal data added to it and it should be smaller overall than the original vcf file. Additionally, ```scikit-allel``` reads this data in and parses all the data into a nice directory tree from which the data can be more easily accessed and analyzed."
   ]
  },
  {
   "cell_type": "code",
   "execution_count": 2,
   "metadata": {},
   "outputs": [],
   "source": [
    "datadir = \"/home/jamc/Data/GitHub/BetaAnalysis/data/\"\n",
    "vcffile = datadir + \"Bmar_proper_rmdup_ready_sorted_Bvchr1_combined_genotyped.vcf\"\n",
    "zarr_group = datadir + \"beta_analysis_v1p0.zr\""
   ]
  },
  {
   "cell_type": "code",
   "execution_count": 3,
   "metadata": {},
   "outputs": [],
   "source": [
    "# allel.vcf_to_zarr(\n",
    "#     vcffile, zarr_group, group=\"Bvchr1\",\n",
    "#     fields='*', overwrite=True,\n",
    "#     compressor=numcodecs.Blosc(\n",
    "#         cname='zstd', clevel=1, shuffle=False\n",
    "#     )\n",
    "# )"
   ]
  },
  {
   "cell_type": "code",
   "execution_count": 4,
   "metadata": {},
   "outputs": [
    {
     "data": {
      "text/html": [
       "<link rel=\"stylesheet\" href=\"//cdnjs.cloudflare.com/ajax/libs/jstree/3.3.3/themes/default/style.min.css\"/><div id=\"b7ccd742-e982-4dec-94e6-0a55b5939dab\" class=\"zarr-tree\"><ul><li data-jstree='{\"type\": \"Group\"}' class='jstree-open'><span>/</span><ul><li data-jstree='{\"type\": \"Group\"}' class='jstree-open'><span>Bvchr1</span><ul><li data-jstree='{\"type\": \"Group\"}' class='jstree-open'><span>calldata</span><ul><li data-jstree='{\"type\": \"Array\"}' class='jstree-open'><span>AD (5018837, 170, 4) int16</span></li><li data-jstree='{\"type\": \"Array\"}' class='jstree-open'><span>DP (5018837, 170) int16</span></li><li data-jstree='{\"type\": \"Array\"}' class='jstree-open'><span>GQ (5018837, 170) int8</span></li><li data-jstree='{\"type\": \"Array\"}' class='jstree-open'><span>GT (5018837, 170, 2) int8</span></li><li data-jstree='{\"type\": \"Array\"}' class='jstree-open'><span>MBQ (5018837, 170, 3) float32</span></li><li data-jstree='{\"type\": \"Array\"}' class='jstree-open'><span>MFRL (5018837, 170, 4) float32</span></li><li data-jstree='{\"type\": \"Array\"}' class='jstree-open'><span>MIN_DP (5018837, 170) int32</span></li><li data-jstree='{\"type\": \"Array\"}' class='jstree-open'><span>MMQ (5018837, 170, 3) float32</span></li><li data-jstree='{\"type\": \"Array\"}' class='jstree-open'><span>MPOS (5018837, 170, 3) float32</span></li><li data-jstree='{\"type\": \"Array\"}' class='jstree-open'><span>PGT (5018837, 170) object</span></li><li data-jstree='{\"type\": \"Array\"}' class='jstree-open'><span>PID (5018837, 170) object</span></li><li data-jstree='{\"type\": \"Array\"}' class='jstree-open'><span>PL (5018837, 170, 3) int32</span></li><li data-jstree='{\"type\": \"Array\"}' class='jstree-open'><span>RGQ (5018837, 170) int32</span></li><li data-jstree='{\"type\": \"Array\"}' class='jstree-open'><span>SB (5018837, 170, 4) int32</span></li></ul></li><li data-jstree='{\"type\": \"Array\"}' class='jstree-open'><span>samples (170,) object</span></li><li data-jstree='{\"type\": \"Group\"}' class='jstree-open'><span>variants</span><ul><li data-jstree='{\"type\": \"Array\"}' class='jstree-open'><span>AC (5018837, 3) int32</span></li><li data-jstree='{\"type\": \"Array\"}' class='jstree-open'><span>AF (5018837, 3) float32</span></li><li data-jstree='{\"type\": \"Array\"}' class='jstree-open'><span>ALT (5018837, 3) object</span></li><li data-jstree='{\"type\": \"Array\"}' class='jstree-open'><span>AN (5018837,) int32</span></li><li data-jstree='{\"type\": \"Array\"}' class='jstree-open'><span>BaseQRankSum (5018837,) float32</span></li><li data-jstree='{\"type\": \"Array\"}' class='jstree-open'><span>CHROM (5018837,) object</span></li><li data-jstree='{\"type\": \"Array\"}' class='jstree-open'><span>ClippingRankSum (5018837,) float32</span></li><li data-jstree='{\"type\": \"Array\"}' class='jstree-open'><span>DP (5018837,) int32</span></li><li data-jstree='{\"type\": \"Array\"}' class='jstree-open'><span>DS (5018837,) bool</span></li><li data-jstree='{\"type\": \"Array\"}' class='jstree-open'><span>END (5018837,) int32</span></li><li data-jstree='{\"type\": \"Array\"}' class='jstree-open'><span>ExcessHet (5018837,) float32</span></li><li data-jstree='{\"type\": \"Array\"}' class='jstree-open'><span>FILTER_LowQual (5018837,) bool</span></li><li data-jstree='{\"type\": \"Array\"}' class='jstree-open'><span>FILTER_PASS (5018837,) bool</span></li><li data-jstree='{\"type\": \"Array\"}' class='jstree-open'><span>FS (5018837,) float32</span></li><li data-jstree='{\"type\": \"Array\"}' class='jstree-open'><span>ID (5018837,) object</span></li><li data-jstree='{\"type\": \"Array\"}' class='jstree-open'><span>InbreedingCoeff (5018837,) float32</span></li><li data-jstree='{\"type\": \"Array\"}' class='jstree-open'><span>MLEAC (5018837, 3) int32</span></li><li data-jstree='{\"type\": \"Array\"}' class='jstree-open'><span>MLEAF (5018837, 3) float32</span></li><li data-jstree='{\"type\": \"Array\"}' class='jstree-open'><span>MQ (5018837,) float32</span></li><li data-jstree='{\"type\": \"Array\"}' class='jstree-open'><span>MQRankSum (5018837,) float32</span></li><li data-jstree='{\"type\": \"Array\"}' class='jstree-open'><span>POS (5018837,) int32</span></li><li data-jstree='{\"type\": \"Array\"}' class='jstree-open'><span>QD (5018837,) float32</span></li><li data-jstree='{\"type\": \"Array\"}' class='jstree-open'><span>QUAL (5018837,) float32</span></li><li data-jstree='{\"type\": \"Array\"}' class='jstree-open'><span>RAW_MQ (5018837,) float32</span></li><li data-jstree='{\"type\": \"Array\"}' class='jstree-open'><span>REF (5018837,) object</span></li><li data-jstree='{\"type\": \"Array\"}' class='jstree-open'><span>ReadPosRankSum (5018837,) float32</span></li><li data-jstree='{\"type\": \"Array\"}' class='jstree-open'><span>SOR (5018837,) float32</span></li><li data-jstree='{\"type\": \"Array\"}' class='jstree-open'><span>is_snp (5018837,) bool</span></li><li data-jstree='{\"type\": \"Array\"}' class='jstree-open'><span>numalt (5018837,) int32</span></li><li data-jstree='{\"type\": \"Array\"}' class='jstree-open'><span>svlen (5018837, 3) int32</span></li></ul></li></ul></li></ul></li></ul></div>\n",
       "<script>\n",
       "    if (!require.defined('jquery')) {\n",
       "        require.config({\n",
       "            paths: {\n",
       "                jquery: '//cdnjs.cloudflare.com/ajax/libs/jquery/1.12.1/jquery.min'\n",
       "            },\n",
       "        });\n",
       "    }\n",
       "    if (!require.defined('jstree')) {\n",
       "        require.config({\n",
       "            paths: {\n",
       "                jstree: '//cdnjs.cloudflare.com/ajax/libs/jstree/3.3.3/jstree.min'\n",
       "            },\n",
       "        });\n",
       "    }\n",
       "    require(['jstree'], function() {\n",
       "        $('#b7ccd742-e982-4dec-94e6-0a55b5939dab').jstree({\n",
       "            types: {\n",
       "                Group: {\n",
       "                    icon: \"fa fa-folder\"\n",
       "                },\n",
       "                Array: {\n",
       "                    icon: \"fa fa-table\"\n",
       "                }\n",
       "            },\n",
       "            plugins: [\"types\"]\n",
       "        });\n",
       "    });\n",
       "</script>\n"
      ],
      "text/plain": [
       "/\n",
       " └── Bvchr1\n",
       "     ├── calldata\n",
       "     │   ├── AD (5018837, 170, 4) int16\n",
       "     │   ├── DP (5018837, 170) int16\n",
       "     │   ├── GQ (5018837, 170) int8\n",
       "     │   ├── GT (5018837, 170, 2) int8\n",
       "     │   ├── MBQ (5018837, 170, 3) float32\n",
       "     │   ├── MFRL (5018837, 170, 4) float32\n",
       "     │   ├── MIN_DP (5018837, 170) int32\n",
       "     │   ├── MMQ (5018837, 170, 3) float32\n",
       "     │   ├── MPOS (5018837, 170, 3) float32\n",
       "     │   ├── PGT (5018837, 170) object\n",
       "     │   ├── PID (5018837, 170) object\n",
       "     │   ├── PL (5018837, 170, 3) int32\n",
       "     │   ├── RGQ (5018837, 170) int32\n",
       "     │   └── SB (5018837, 170, 4) int32\n",
       "     ├── samples (170,) object\n",
       "     └── variants\n",
       "         ├── AC (5018837, 3) int32\n",
       "         ├── AF (5018837, 3) float32\n",
       "         ├── ALT (5018837, 3) object\n",
       "         ├── AN (5018837,) int32\n",
       "         ├── BaseQRankSum (5018837,) float32\n",
       "         ├── CHROM (5018837,) object\n",
       "         ├── ClippingRankSum (5018837,) float32\n",
       "         ├── DP (5018837,) int32\n",
       "         ├── DS (5018837,) bool\n",
       "         ├── END (5018837,) int32\n",
       "         ├── ExcessHet (5018837,) float32\n",
       "         ├── FILTER_LowQual (5018837,) bool\n",
       "         ├── FILTER_PASS (5018837,) bool\n",
       "         ├── FS (5018837,) float32\n",
       "         ├── ID (5018837,) object\n",
       "         ├── InbreedingCoeff (5018837,) float32\n",
       "         ├── MLEAC (5018837, 3) int32\n",
       "         ├── MLEAF (5018837, 3) float32\n",
       "         ├── MQ (5018837,) float32\n",
       "         ├── MQRankSum (5018837,) float32\n",
       "         ├── POS (5018837,) int32\n",
       "         ├── QD (5018837,) float32\n",
       "         ├── QUAL (5018837,) float32\n",
       "         ├── RAW_MQ (5018837,) float32\n",
       "         ├── REF (5018837,) object\n",
       "         ├── ReadPosRankSum (5018837,) float32\n",
       "         ├── SOR (5018837,) float32\n",
       "         ├── is_snp (5018837,) bool\n",
       "         ├── numalt (5018837,) int32\n",
       "         └── svlen (5018837, 3) int32"
      ]
     },
     "execution_count": 4,
     "metadata": {},
     "output_type": "execute_result"
    }
   ],
   "source": [
    "# load variant call directory\n",
    "callset = zarr.open_group(zarr_group, mode='r')\n",
    "# show directory structure\n",
    "callset.tree(expand=True)"
   ]
  },
  {
   "cell_type": "code",
   "execution_count": 5,
   "metadata": {},
   "outputs": [
    {
     "name": "stdout",
     "output_type": "stream",
     "text": [
      "Number of individuals to be analyzed: 170\n"
     ]
    }
   ],
   "source": [
    "ninds = len(callset['Bvchr1/samples'][:])\n",
    "print(\"Number of individuals to be analyzed: %s\" % ninds)"
   ]
  },
  {
   "cell_type": "code",
   "execution_count": 14,
   "metadata": {},
   "outputs": [
    {
     "name": "stderr",
     "output_type": "stream",
     "text": [
      "/mnt/Data/Programs/Anaconda/lib/python3.6/site-packages/ipykernel_launcher.py:3: RuntimeWarning: invalid value encountered in greater\n",
      "  This is separate from the ipykernel package so we can avoid doing imports until\n",
      "/mnt/Data/Programs/Anaconda/lib/python3.6/site-packages/ipykernel_launcher.py:4: RuntimeWarning: invalid value encountered in greater\n",
      "  after removing the cwd from sys.path.\n",
      "/mnt/Data/Programs/Anaconda/lib/python3.6/site-packages/ipykernel_launcher.py:7: RuntimeWarning: invalid value encountered in greater\n",
      "  import sys\n",
      "/mnt/Data/Programs/Anaconda/lib/python3.6/site-packages/ipykernel_launcher.py:8: RuntimeWarning: invalid value encountered in greater\n",
      "  \n",
      "/mnt/Data/Programs/Anaconda/lib/python3.6/site-packages/ipykernel_launcher.py:9: RuntimeWarning: invalid value encountered in greater\n",
      "  if __name__ == '__main__':\n"
     ]
    },
    {
     "name": "stdout",
     "output_type": "stream",
     "text": [
      "Number of filter passing variants: 1966507\n"
     ]
    }
   ],
   "source": [
    "Bvchr1_SOR =  callset['Bvchr1/variants/SOR'][:] < 3\n",
    "Bvchr1_SNP =  callset['Bvchr1/variants/is_snp'][:]\n",
    "Bvchr1_QD =   callset['Bvchr1/variants/QD'][:] > 10\n",
    "Bvchr1_MQ =   callset['Bvchr1/variants/MQ'][:] > 25\n",
    "Bvchr1_DPU =  callset['Bvchr1/variants/DP'][:] < 1700\n",
    "Bvchr1_DPL =  callset['Bvchr1/variants/DP'][:] > 340\n",
    "Bvchr1_MQRS = callset['Bvchr1/variants/MQRankSum'][:] > -12.5\n",
    "Bvchr1_BQRS = callset['Bvchr1/variants/BaseQRankSum'][:] > -12.5\n",
    "Bvchr1_RPRS = callset['Bvchr1/variants/ReadPosRankSum'][:] > -8.0\n",
    "Bvchr1_ALT = []\n",
    "\n",
    "for alt in callset['Bvchr1/variants/ALT'][:]:\n",
    "    if len(set(alt)) == 2:\n",
    "        Bvchr1_ALT.append(True)\n",
    "    else:\n",
    "        Bvchr1_ALT.append(False)\n",
    "\n",
    "\n",
    "filters = np.array((\n",
    "    Bvchr1_SOR, Bvchr1_SNP, Bvchr1_QD, Bvchr1_MQ, Bvchr1_DPU,\n",
    "    Bvchr1_DPL, Bvchr1_MQRS, Bvchr1_BQRS, Bvchr1_RPRS, Bvchr1_ALT\n",
    "))\n",
    "\n",
    "# Bvchr1_filter = np.logical_and.reduce(\n",
    "#     (\n",
    "#         Bvchr1_SOR, Bvchr1_SNP, Bvchr1_QD, Bvchr1_MQ, Bvchr1_DPU,\n",
    "#         Bvchr1_DPL, Bvchr1_MQRS, Bvchr1_BQRS, Bvchr1_RPRS\n",
    "#     )\n",
    "# )\n",
    "\n",
    "Bvchr1_filter = np.all(filters, axis=0)\n",
    "\n",
    "good_variants = Bvchr1_filter.sum()\n",
    "print(\"Number of filter passing variants: %s\" % good_variants)"
   ]
  },
  {
   "cell_type": "code",
   "execution_count": 7,
   "metadata": {},
   "outputs": [
    {
     "ename": "NameError",
     "evalue": "name 'Bvchr1_filter_test' is not defined",
     "output_type": "error",
     "traceback": [
      "\u001b[0;31m---------------------------------------------------------------------------\u001b[0m",
      "\u001b[0;31mNameError\u001b[0m                                 Traceback (most recent call last)",
      "\u001b[0;32m<ipython-input-7-3da068b402b1>\u001b[0m in \u001b[0;36m<module>\u001b[0;34m()\u001b[0m\n\u001b[0;32m----> 1\u001b[0;31m \u001b[0mBvchr1_SNP\u001b[0m\u001b[0;34m,\u001b[0m \u001b[0mBvchr1_filter_test\u001b[0m\u001b[0;34m[\u001b[0m\u001b[0;36m5\u001b[0m\u001b[0;34m]\u001b[0m\u001b[0;34m\u001b[0m\u001b[0m\n\u001b[0m",
      "\u001b[0;31mNameError\u001b[0m: name 'Bvchr1_filter_test' is not defined"
     ]
    }
   ],
   "source": [
    "Bvchr1_SNP, Bvchr1_filter_test[5]"
   ]
  },
  {
   "cell_type": "code",
   "execution_count": 8,
   "metadata": {},
   "outputs": [
    {
     "name": "stdout",
     "output_type": "stream",
     "text": [
      "[False False False ... False False False]\n"
     ]
    },
    {
     "data": {
      "text/html": [
       "<div class=\"allel allel-DisplayAs1D\"><span>&lt;SortedIndex shape=(118809,) dtype=int32&gt;</span><table><thead><tr><th style=\"text-align: center\">0</th><th style=\"text-align: center\">1</th><th style=\"text-align: center\">2</th><th style=\"text-align: center\">3</th><th style=\"text-align: center\">4</th><th style=\"text-align: center\">...</th><th style=\"text-align: center\">118804</th><th style=\"text-align: center\">118805</th><th style=\"text-align: center\">118806</th><th style=\"text-align: center\">118807</th><th style=\"text-align: center\">118808</th></tr></thead><tbody><tr><td style=\"text-align: center\">8090</td><td style=\"text-align: center\">8301</td><td style=\"text-align: center\">8346</td><td style=\"text-align: center\">8402</td><td style=\"text-align: center\">8419</td><td style=\"text-align: center\">...</td><td style=\"text-align: center\">8252090</td><td style=\"text-align: center\">8252097</td><td style=\"text-align: center\">8252100</td><td style=\"text-align: center\">8252133</td><td style=\"text-align: center\">8255845</td></tr></tbody></table></div>"
      ],
      "text/plain": [
       "<SortedIndex shape=(118809,) dtype=int32>\n",
       "[8090, 8301, 8346, 8402, 8419, ..., 8252090, 8252097, 8252100, 8252133, 8255845]"
      ]
     },
     "execution_count": 8,
     "metadata": {},
     "output_type": "execute_result"
    }
   ],
   "source": [
    "Bvchr1_ref   = callset['Bvchr1/variants/REF'][:]\n",
    "Bvchr1_alt   = callset['Bvchr1/variants/ALT'][:]\n",
    "# Apply filter to chromosome and position from the reference genome\n",
    "Bvchr1_chromosome = callset['Bvchr1/variants/CHROM'][:]\n",
    "Bvchr1_position   = callset['Bvchr1/variants/POS'][:]\n",
    "\n",
    "first_scaffold = Bvchr1_chromosome == \"Bvchr1.sca001\"\n",
    "Bvchr1_sca001_filter = np.logical_and(first_scaffold, Bvchr1_filter)\n",
    "print(Bvchr1_sca001_filter)\n",
    "\n",
    "Bvchr1_filtered_chromosome = Bvchr1_chromosome.compress(Bvchr1_sca001_filter, axis=0)\n",
    "Bvchr1_filtered_position   = Bvchr1_position.compress(  Bvchr1_sca001_filter, axis=0)\n",
    "Bvchr1_filtered_ref   = Bvchr1_ref.compress(  Bvchr1_sca001_filter, axis=0)\n",
    "Bvchr1_filtered_alt   = Bvchr1_alt.compress(  Bvchr1_sca001_filter, axis=0)\n",
    "\n",
    "# Now we check if the CHROM annotation is equal to the scaffold name\n",
    "# Bvchr1_bvchr_sca001 = np.equal(\n",
    "#     Bvchr1_filtered_chromosome[:], [\"Bvchr1.sca001\"]\n",
    "# )\n",
    "\n",
    "# Bvchr1_sca001_filter = np.logical_and(Bvchr1_bvchr_sca001, Bvchr1_filter)\n",
    "\n",
    "# Bvchr1_filtered_ref   = Bvchr1_ref.compress(  Bvchr1_sca001_filter, axis=0)\n",
    "# Bvchr1_filtered_alt   = Bvchr1_alt.compress(  Bvchr1_sca001_filter, axis=0)\n",
    "\n",
    "# Kind of inefficient, but can get the last index by cumulative sum\n",
    "# This will be the last time that CHROM == \"Scaffold-name\"\n",
    "Bvchr1_sca001_pos = np.cumsum(Bvchr1_sca001_filter)\n",
    "Bvchr1_positions = allel.SortedIndex(\n",
    "    Bvchr1_filtered_position[0:Bvchr1_sca001_pos[-1]]\n",
    ")\n",
    "Bvchr1_positions"
   ]
  },
  {
   "cell_type": "code",
   "execution_count": 9,
   "metadata": {},
   "outputs": [
    {
     "data": {
      "text/plain": [
       "(array(['C', 'A', 'C', ..., 'C', 'A', 'G'], dtype=object),\n",
       " array([['T', '', ''],\n",
       "        ['G', '', ''],\n",
       "        ['G', '', ''],\n",
       "        ...,\n",
       "        ['T', '', ''],\n",
       "        ['T', '', ''],\n",
       "        ['A', '', '']], dtype=object))"
      ]
     },
     "execution_count": 9,
     "metadata": {},
     "output_type": "execute_result"
    }
   ],
   "source": [
    "Bvchr1_filtered_ref, Bvchr1_filtered_alt"
   ]
  },
  {
   "cell_type": "code",
   "execution_count": 10,
   "metadata": {},
   "outputs": [],
   "source": [
    "# Plotting function taken from the following address:\n",
    "# http://alimanfoo.github.io/2017/06/14/read-vcf.html\n",
    "def plot_windowed_variant_density(pos, window_size, title=None):\n",
    "    \n",
    "    # setup windows\n",
    "    bins = np.arange(0, pos.max(), window_size)\n",
    "    \n",
    "    # use window midpoints as x coordinate\n",
    "    x = (bins[1:] + bins[:-1])/2\n",
    "    \n",
    "    # compute variant density in each window\n",
    "    h, _ = np.histogram(pos, bins=bins)\n",
    "    y = h / window_size\n",
    "    \n",
    "    # plot\n",
    "    fig, ax = plt.subplots(figsize=(12, 3))\n",
    "    ax.plot(x, y)\n",
    "    ax.set_xlabel('Chromosome position (bp)')\n",
    "    ax.set_ylabel('Variant density (bp$^{-1}$)')\n",
    "    if title:\n",
    "        ax.set_title(title)\n",
    "    return y.mean()"
   ]
  },
  {
   "cell_type": "code",
   "execution_count": 11,
   "metadata": {},
   "outputs": [
    {
     "data": {
      "image/png": "[encoded data removed]",
      "text/plain": [
       "<matplotlib.figure.Figure at 0x7f5942561908>"
      ]
     },
     "metadata": {},
     "output_type": "display_data"
    }
   ],
   "source": [
    "import matplotlib as mpl\n",
    "import matplotlib.pyplot as plt\n",
    "%matplotlib inline\n",
    "import seaborn as sns\n",
    "sns.set_style(\"ticks\", {\"axes.grid\": True})\n",
    "sns.set_context(\"notebook\", font_scale=1, rc={\"lines.linewidth\": 2.5})\n",
    "\n",
    "Bvchr1_Scaffold001_mean_vd = plot_windowed_variant_density(\n",
    "    Bvchr1_positions, window_size=50000, title='Bvchr1 Scaffold 1 Variant density'\n",
    ")"
   ]
  },
  {
   "cell_type": "code",
   "execution_count": 12,
   "metadata": {},
   "outputs": [
    {
     "name": "stdout",
     "output_type": "stream",
     "text": [
      "69.4537984913793\n"
     ]
    }
   ],
   "source": [
    "print(1/Bvchr1_Scaffold001_mean_vd)"
   ]
  },
  {
   "cell_type": "code",
   "execution_count": 21,
   "metadata": {},
   "outputs": [],
   "source": [
    "PL = allel.GenotypeDaskArray(callset['Bvchr1/calldata/PL'])"
   ]
  },
  {
   "cell_type": "code",
   "execution_count": 22,
   "metadata": {},
   "outputs": [
    {
     "data": {
      "text/html": [
       "<div class=\"allel allel-DisplayAs2D\"><span>&lt;GenotypeDaskArray shape=(5018837, 170, 3) dtype=int32&gt;</span><table><thead><tr><th></th><th style=\"text-align: center\">0</th><th style=\"text-align: center\">1</th><th style=\"text-align: center\">2</th><th style=\"text-align: center\">3</th><th style=\"text-align: center\">4</th><th style=\"text-align: center\">...</th><th style=\"text-align: center\">165</th><th style=\"text-align: center\">166</th><th style=\"text-align: center\">167</th><th style=\"text-align: center\">168</th><th style=\"text-align: center\">169</th></tr></thead><tbody><tr><th style=\"text-align: center; background-color: white; border-right: 1px solid black; \">0</th><td style=\"text-align: center\">     0/6/60</td><td style=\"text-align: center\">     0/3/42</td><td style=\"text-align: center\">      0/0/0</td><td style=\"text-align: center\">      0/0/0</td><td style=\"text-align: center\">      0/0/0</td><td style=\"text-align: center\">...</td><td style=\"text-align: center\">      0/0/0</td><td style=\"text-align: center\">      0/0/0</td><td style=\"text-align: center\">      0/0/0</td><td style=\"text-align: center\">      0/0/0</td><td style=\"text-align: center\">      0/0/0</td></tr><tr><th style=\"text-align: center; background-color: white; border-right: 1px solid black; \">1</th><td style=\"text-align: center\">     0/3/42</td><td style=\"text-align: center\">     0/6/90</td><td style=\"text-align: center\">      0/0/0</td><td style=\"text-align: center\">      0/0/0</td><td style=\"text-align: center\">      0/0/0</td><td style=\"text-align: center\">...</td><td style=\"text-align: center\">      0/0/0</td><td style=\"text-align: center\">      0/0/0</td><td style=\"text-align: center\">      0/0/0</td><td style=\"text-align: center\">      0/0/0</td><td style=\"text-align: center\">      0/0/0</td></tr><tr><th style=\"text-align: center; background-color: white; border-right: 1px solid black; \">2</th><td style=\"text-align: center\">     0/3/42</td><td style=\"text-align: center\">     0/6/90</td><td style=\"text-align: center\">      0/0/0</td><td style=\"text-align: center\">      0/0/0</td><td style=\"text-align: center\">      0/0/0</td><td style=\"text-align: center\">...</td><td style=\"text-align: center\">      0/0/0</td><td style=\"text-align: center\">      0/0/0</td><td style=\"text-align: center\">      0/0/0</td><td style=\"text-align: center\">      0/0/0</td><td style=\"text-align: center\">      0/0/0</td></tr><tr><th style=\"text-align: center; background-color: white; border-right: 1px solid black; \">...</th><td style=\"text-align: center\" colspan=\"12\">...</td></tr><tr><th style=\"text-align: center; background-color: white; border-right: 1px solid black; \">5018834</th><td style=\"text-align: center\">      0/0/0</td><td style=\"text-align: center\">      0/0/0</td><td style=\"text-align: center\">      0/0/0</td><td style=\"text-align: center\">      0/0/0</td><td style=\"text-align: center\">      0/0/0</td><td style=\"text-align: center\">...</td><td style=\"text-align: center\">      0/0/0</td><td style=\"text-align: center\">      0/0/0</td><td style=\"text-align: center\">      0/0/0</td><td style=\"text-align: center\">      0/0/0</td><td style=\"text-align: center\">      0/0/0</td></tr><tr><th style=\"text-align: center; background-color: white; border-right: 1px solid black; \">5018835</th><td style=\"text-align: center\">      0/0/0</td><td style=\"text-align: center\">      0/0/0</td><td style=\"text-align: center\">      0/0/0</td><td style=\"text-align: center\">      0/0/0</td><td style=\"text-align: center\">      0/0/0</td><td style=\"text-align: center\">...</td><td style=\"text-align: center\">      0/0/0</td><td style=\"text-align: center\">      0/0/0</td><td style=\"text-align: center\">      0/0/0</td><td style=\"text-align: center\">      0/0/0</td><td style=\"text-align: center\">      0/0/0</td></tr><tr><th style=\"text-align: center; background-color: white; border-right: 1px solid black; \">5018836</th><td style=\"text-align: center\">      0/0/0</td><td style=\"text-align: center\">      0/0/0</td><td style=\"text-align: center\">      0/0/0</td><td style=\"text-align: center\">      0/0/0</td><td style=\"text-align: center\">      0/0/0</td><td style=\"text-align: center\">...</td><td style=\"text-align: center\">      0/0/0</td><td style=\"text-align: center\">      0/0/0</td><td style=\"text-align: center\">      0/0/0</td><td style=\"text-align: center\">      0/0/0</td><td style=\"text-align: center\">      0/0/0</td></tr></tbody></table></div>"
      ],
      "text/plain": [
       "<GenotypeDaskArray shape=(5018837, 170, 3) dtype=int32>"
      ]
     },
     "execution_count": 22,
     "metadata": {},
     "output_type": "execute_result"
    }
   ],
   "source": [
    "PL"
   ]
  },
  {
   "cell_type": "code",
   "execution_count": 23,
   "metadata": {
    "scrolled": false
   },
   "outputs": [
    {
     "data": {
      "text/html": [
       "<div class=\"allel allel-DisplayAs2D\"><span>&lt;GenotypeDaskArray shape=(386231, 170, 3) dtype=int32&gt;</span><table><thead><tr><th></th><th style=\"text-align: center\">0</th><th style=\"text-align: center\">1</th><th style=\"text-align: center\">2</th><th style=\"text-align: center\">3</th><th style=\"text-align: center\">4</th><th style=\"text-align: center\">...</th><th style=\"text-align: center\">165</th><th style=\"text-align: center\">166</th><th style=\"text-align: center\">167</th><th style=\"text-align: center\">168</th><th style=\"text-align: center\">169</th></tr></thead><tbody><tr><th style=\"text-align: center; background-color: white; border-right: 1px solid black; \">0</th><td style=\"text-align: center\">    0/9/102</td><td style=\"text-align: center\">     0/0/38</td><td style=\"text-align: center\">      0/0/0</td><td style=\"text-align: center\">    0/9/102</td><td style=\"text-align: center\">     86/6/0</td><td style=\"text-align: center\">...</td><td style=\"text-align: center\">     0/6/84</td><td style=\"text-align: center\">      0/0/0</td><td style=\"text-align: center\">      0/0/0</td><td style=\"text-align: center\">      0/0/0</td><td style=\"text-align: center\">   0/15/182</td></tr><tr><th style=\"text-align: center; background-color: white; border-right: 1px solid black; \">1</th><td style=\"text-align: center\">   0/12/140</td><td style=\"text-align: center\">     0/0/38</td><td style=\"text-align: center\">      0/0/0</td><td style=\"text-align: center\">    0/9/102</td><td style=\"text-align: center\">     86/6/0</td><td style=\"text-align: center\">...</td><td style=\"text-align: center\">     0/6/84</td><td style=\"text-align: center\">      0/0/0</td><td style=\"text-align: center\">      0/0/0</td><td style=\"text-align: center\">      0/0/0</td><td style=\"text-align: center\">   0/15/182</td></tr><tr><th style=\"text-align: center; background-color: white; border-right: 1px solid black; \">2</th><td style=\"text-align: center\">   0/12/153</td><td style=\"text-align: center\">   0/15/186</td><td style=\"text-align: center\">     0/3/19</td><td style=\"text-align: center\">   0/12/144</td><td style=\"text-align: center\">     0/6/56</td><td style=\"text-align: center\">...</td><td style=\"text-align: center\">     0/6/84</td><td style=\"text-align: center\">      0/0/0</td><td style=\"text-align: center\">      0/0/0</td><td style=\"text-align: center\">      0/0/0</td><td style=\"text-align: center\">   0/18/204</td></tr><tr><th style=\"text-align: center; background-color: white; border-right: 1px solid black; \">...</th><td style=\"text-align: center\" colspan=\"12\">...</td></tr><tr><th style=\"text-align: center; background-color: white; border-right: 1px solid black; \">386228</th><td style=\"text-align: center\">        0/9/69</td><td style=\"text-align: center\">        0/6/74</td><td style=\"text-align: center\">         0/0/0</td><td style=\"text-align: center\">      0/15/225</td><td style=\"text-align: center\">       39/0/39</td><td style=\"text-align: center\">...</td><td style=\"text-align: center\">         0/0/0</td><td style=\"text-align: center\">         0/0/0</td><td style=\"text-align: center\">         0/0/0</td><td style=\"text-align: center\">         0/0/0</td><td style=\"text-align: center\">       0/9/135</td></tr><tr><th style=\"text-align: center; background-color: white; border-right: 1px solid black; \">386229</th><td style=\"text-align: center\">        48/6/0</td><td style=\"text-align: center\">        90/6/0</td><td style=\"text-align: center\">         0/0/0</td><td style=\"text-align: center\">      0/18/217</td><td style=\"text-align: center\">        45/3/0</td><td style=\"text-align: center\">...</td><td style=\"text-align: center\">         0/0/0</td><td style=\"text-align: center\">         0/0/0</td><td style=\"text-align: center\">         0/0/0</td><td style=\"text-align: center\">         0/0/0</td><td style=\"text-align: center\">       135/9/0</td></tr><tr><th style=\"text-align: center; background-color: white; border-right: 1px solid black; \">386230</th><td style=\"text-align: center\">         0/0/0</td><td style=\"text-align: center\">     159/0/107</td><td style=\"text-align: center\">      0/12/134</td><td style=\"text-align: center\">       0/0/107</td><td style=\"text-align: center\">      123/0/28</td><td style=\"text-align: center\">...</td><td style=\"text-align: center\">         0/0/0</td><td style=\"text-align: center\">         0/0/0</td><td style=\"text-align: center\">        90/6/0</td><td style=\"text-align: center\">        45/3/0</td><td style=\"text-align: center\">         0/0/0</td></tr></tbody></table></div>"
      ],
      "text/plain": [
       "<GenotypeDaskArray shape=(386231, 170, 3) dtype=int32>"
      ]
     },
     "execution_count": 23,
     "metadata": {},
     "output_type": "execute_result"
    }
   ],
   "source": [
    "Good_SNPs = PL.compress(Bvchr1_sca001_filter, axis=0)\n",
    "Good_SNPs"
   ]
  },
  {
   "cell_type": "code",
   "execution_count": null,
   "metadata": {},
   "outputs": [],
   "source": [
    "Good_SNPs[0,:,0]"
   ]
  },
  {
   "cell_type": "code",
   "execution_count": 24,
   "metadata": {},
   "outputs": [],
   "source": [
    "import dask.array\n",
    "non_phred = np.power(10, -Good_SNPs/10)\n",
    "non_phred_sum = non_phred.sum(axis=2)\n",
    "# repeat the summed value 3 times\n",
    "x=dask.array.repeat(non_phred_sum, 3, axis=1)\n",
    "# reshape the sums to fit the dimension of non_phred tensor\n",
    "y=dask.array.reshape(x, (non_phred.shape[0], non_phred.shape[1], 3))\n",
    "non_phred_sum = y"
   ]
  },
  {
   "cell_type": "code",
   "execution_count": 25,
   "metadata": {},
   "outputs": [],
   "source": [
    "non_phred_normalized = np.divide(non_phred, non_phred_sum)\n",
    "# non_phred_normalized[0,:,:]\n",
    "# test_file = open(\"/home/jamc/test.txt\", \"w\")\n",
    "# test_file.write(str(non_phred_normalized[0,:,:].flatten()))\n",
    "# test_file.close()"
   ]
  },
  {
   "cell_type": "code",
   "execution_count": 26,
   "metadata": {
    "scrolled": false
   },
   "outputs": [],
   "source": [
    "tester = dask.array.reshape(non_phred_normalized, (non_phred_normalized.shape[0], non_phred_normalized.shape[1]*3))\n",
    "# dask.array.to_npy_stack(datadir + \"npy_stacks\", tester)\n",
    "# np.savetxt(datadir + \"test_numpy.txt.gz\", tester, fmt='%10.6f', delimiter='\\t', newline='\\n', header=header)"
   ]
  },
  {
   "cell_type": "code",
   "execution_count": 17,
   "metadata": {},
   "outputs": [],
   "source": [
    "allele_dict = {\"A\": '0', \"C\":'1', \"G\":'2', \"T\":'3'}\n",
    "header = [\"marker\", \"allele1\", \"allele2\"]\n",
    "header = []\n",
    "for x in range(170):\n",
    "    header += ['Ind%s' % x]*3\n",
    "header = \"\\t\".join(header)\n",
    "# header\n",
    "    "
   ]
  },
  {
   "cell_type": "code",
   "execution_count": null,
   "metadata": {},
   "outputs": [],
   "source": [
    "concat = dask.array.hstack((np.array([Bvchr1_filtered_position], dtype=np.int32).T, tester))\n",
    "Bvchr1_filtered_position.T.shape, tester.shape"
   ]
  },
  {
   "cell_type": "code",
   "execution_count": null,
   "metadata": {},
   "outputs": [],
   "source": [
    "# test = [-int(x)/10 for x in Good_SNPs_Bvchr1_Sca001[0][0]]\n",
    "test = np.array([np.power(10, -int(x)/10) for x in Good_SNPs_Bvchr1_Sca001[0][0]])\n",
    "list(np.round(np.divide(test,test.sum()), 6))\n",
    "# np.power(10, test).sum()"
   ]
  },
  {
   "cell_type": "code",
   "execution_count": null,
   "metadata": {},
   "outputs": [],
   "source": [
    "Bvchr1_filtered_ref[0]"
   ]
  },
  {
   "cell_type": "code",
   "execution_count": null,
   "metadata": {},
   "outputs": [],
   "source": [
    "np.array([[1],[2],[3]]).shape"
   ]
  },
  {
   "cell_type": "code",
   "execution_count": null,
   "metadata": {},
   "outputs": [],
   "source": [
    "np.array([Bvchr1_filtered_position]).T.shape"
   ]
  },
  {
   "cell_type": "code",
   "execution_count": null,
   "metadata": {},
   "outputs": [],
   "source": [
    "concat"
   ]
  },
  {
   "cell_type": "code",
   "execution_count": 29,
   "metadata": {},
   "outputs": [],
   "source": [
    "# float(concat[0,0])\n",
    "markers = []\n",
    "for x,y in zip(Bvchr1_filtered_chromosome, Bvchr1_filtered_position):\n",
    "    markers.append(\"%s_%s\" % (x,y))"
   ]
  },
  {
   "cell_type": "code",
   "execution_count": 21,
   "metadata": {},
   "outputs": [],
   "source": [
    "concat = dask.array.hstack((np.array([alt_alleles], dtype=np.int8).T, tester))\n",
    "concat = dask.array.hstack((np.array([ref_alleles], dtype=np.int8).T, concat))\n",
    "# concat = dask.array.hstack((np.array([Bvchr1_filtered_position], dtype=np.int32).T, concat))\n",
    "concat = dask.array.hstack((np.array([markers], dtype=str).T, concat))\n"
   ]
  },
  {
   "cell_type": "code",
   "execution_count": null,
   "metadata": {},
   "outputs": [],
   "source": [
    "concat[0,0]"
   ]
  },
  {
   "cell_type": "code",
   "execution_count": null,
   "metadata": {},
   "outputs": [],
   "source": [
    "concat[0,0]"
   ]
  },
  {
   "cell_type": "code",
   "execution_count": 31,
   "metadata": {},
   "outputs": [],
   "source": [
    "alt_alleles = []\n",
    "allele_dict = {\"A\": '0', \"C\":'1', \"G\":'2', \"T\":'3'}\n",
    "\n",
    "for val in Bvchr1_filtered_alt:\n",
    "    alt_alleles.append(allele_dict[val[0]])\n",
    "\n",
    "ref_alleles = []\n",
    "\n",
    "for val in Bvchr1_filtered_ref:\n",
    "    ref_alleles.append(allele_dict[val])"
   ]
  },
  {
   "cell_type": "code",
   "execution_count": null,
   "metadata": {},
   "outputs": [],
   "source": [
    "np.array(alt_alleles).shape"
   ]
  },
  {
   "cell_type": "code",
   "execution_count": null,
   "metadata": {},
   "outputs": [],
   "source": [
    "np.array([Bvchr1_filtered_position], dtype=np.int32)"
   ]
  },
  {
   "cell_type": "code",
   "execution_count": 27,
   "metadata": {},
   "outputs": [
    {
     "data": {
      "text/plain": [
       "'Ind0\\tInd0\\tInd0\\tInd1\\tInd1\\tInd1\\tInd2\\tInd2\\tInd2\\tInd3\\tInd3\\tInd3\\tInd4\\tInd4\\tInd4\\tInd5\\tInd5\\tInd5\\tInd6\\tInd6\\tInd6\\tInd7\\tInd7\\tInd7\\tInd8\\tInd8\\tInd8\\tInd9\\tInd9\\tInd9\\tInd10\\tInd10\\tInd10\\tInd11\\tInd11\\tInd11\\tInd12\\tInd12\\tInd12\\tInd13\\tInd13\\tInd13\\tInd14\\tInd14\\tInd14\\tInd15\\tInd15\\tInd15\\tInd16\\tInd16\\tInd16\\tInd17\\tInd17\\tInd17\\tInd18\\tInd18\\tInd18\\tInd19\\tInd19\\tInd19\\tInd20\\tInd20\\tInd20\\tInd21\\tInd21\\tInd21\\tInd22\\tInd22\\tInd22\\tInd23\\tInd23\\tInd23\\tInd24\\tInd24\\tInd24\\tInd25\\tInd25\\tInd25\\tInd26\\tInd26\\tInd26\\tInd27\\tInd27\\tInd27\\tInd28\\tInd28\\tInd28\\tInd29\\tInd29\\tInd29\\tInd30\\tInd30\\tInd30\\tInd31\\tInd31\\tInd31\\tInd32\\tInd32\\tInd32\\tInd33\\tInd33\\tInd33\\tInd34\\tInd34\\tInd34\\tInd35\\tInd35\\tInd35\\tInd36\\tInd36\\tInd36\\tInd37\\tInd37\\tInd37\\tInd38\\tInd38\\tInd38\\tInd39\\tInd39\\tInd39\\tInd40\\tInd40\\tInd40\\tInd41\\tInd41\\tInd41\\tInd42\\tInd42\\tInd42\\tInd43\\tInd43\\tInd43\\tInd44\\tInd44\\tInd44\\tInd45\\tInd45\\tInd45\\tInd46\\tInd46\\tInd46\\tInd47\\tInd47\\tInd47\\tInd48\\tInd48\\tInd48\\tInd49\\tInd49\\tInd49\\tInd50\\tInd50\\tInd50\\tInd51\\tInd51\\tInd51\\tInd52\\tInd52\\tInd52\\tInd53\\tInd53\\tInd53\\tInd54\\tInd54\\tInd54\\tInd55\\tInd55\\tInd55\\tInd56\\tInd56\\tInd56\\tInd57\\tInd57\\tInd57\\tInd58\\tInd58\\tInd58\\tInd59\\tInd59\\tInd59\\tInd60\\tInd60\\tInd60\\tInd61\\tInd61\\tInd61\\tInd62\\tInd62\\tInd62\\tInd63\\tInd63\\tInd63\\tInd64\\tInd64\\tInd64\\tInd65\\tInd65\\tInd65\\tInd66\\tInd66\\tInd66\\tInd67\\tInd67\\tInd67\\tInd68\\tInd68\\tInd68\\tInd69\\tInd69\\tInd69\\tInd70\\tInd70\\tInd70\\tInd71\\tInd71\\tInd71\\tInd72\\tInd72\\tInd72\\tInd73\\tInd73\\tInd73\\tInd74\\tInd74\\tInd74\\tInd75\\tInd75\\tInd75\\tInd76\\tInd76\\tInd76\\tInd77\\tInd77\\tInd77\\tInd78\\tInd78\\tInd78\\tInd79\\tInd79\\tInd79\\tInd80\\tInd80\\tInd80\\tInd81\\tInd81\\tInd81\\tInd82\\tInd82\\tInd82\\tInd83\\tInd83\\tInd83\\tInd84\\tInd84\\tInd84\\tInd85\\tInd85\\tInd85\\tInd86\\tInd86\\tInd86\\tInd87\\tInd87\\tInd87\\tInd88\\tInd88\\tInd88\\tInd89\\tInd89\\tInd89\\tInd90\\tInd90\\tInd90\\tInd91\\tInd91\\tInd91\\tInd92\\tInd92\\tInd92\\tInd93\\tInd93\\tInd93\\tInd94\\tInd94\\tInd94\\tInd95\\tInd95\\tInd95\\tInd96\\tInd96\\tInd96\\tInd97\\tInd97\\tInd97\\tInd98\\tInd98\\tInd98\\tInd99\\tInd99\\tInd99\\tInd100\\tInd100\\tInd100\\tInd101\\tInd101\\tInd101\\tInd102\\tInd102\\tInd102\\tInd103\\tInd103\\tInd103\\tInd104\\tInd104\\tInd104\\tInd105\\tInd105\\tInd105\\tInd106\\tInd106\\tInd106\\tInd107\\tInd107\\tInd107\\tInd108\\tInd108\\tInd108\\tInd109\\tInd109\\tInd109\\tInd110\\tInd110\\tInd110\\tInd111\\tInd111\\tInd111\\tInd112\\tInd112\\tInd112\\tInd113\\tInd113\\tInd113\\tInd114\\tInd114\\tInd114\\tInd115\\tInd115\\tInd115\\tInd116\\tInd116\\tInd116\\tInd117\\tInd117\\tInd117\\tInd118\\tInd118\\tInd118\\tInd119\\tInd119\\tInd119\\tInd120\\tInd120\\tInd120\\tInd121\\tInd121\\tInd121\\tInd122\\tInd122\\tInd122\\tInd123\\tInd123\\tInd123\\tInd124\\tInd124\\tInd124\\tInd125\\tInd125\\tInd125\\tInd126\\tInd126\\tInd126\\tInd127\\tInd127\\tInd127\\tInd128\\tInd128\\tInd128\\tInd129\\tInd129\\tInd129\\tInd130\\tInd130\\tInd130\\tInd131\\tInd131\\tInd131\\tInd132\\tInd132\\tInd132\\tInd133\\tInd133\\tInd133\\tInd134\\tInd134\\tInd134\\tInd135\\tInd135\\tInd135\\tInd136\\tInd136\\tInd136\\tInd137\\tInd137\\tInd137\\tInd138\\tInd138\\tInd138\\tInd139\\tInd139\\tInd139\\tInd140\\tInd140\\tInd140\\tInd141\\tInd141\\tInd141\\tInd142\\tInd142\\tInd142\\tInd143\\tInd143\\tInd143\\tInd144\\tInd144\\tInd144\\tInd145\\tInd145\\tInd145\\tInd146\\tInd146\\tInd146\\tInd147\\tInd147\\tInd147\\tInd148\\tInd148\\tInd148\\tInd149\\tInd149\\tInd149\\tInd150\\tInd150\\tInd150\\tInd151\\tInd151\\tInd151\\tInd152\\tInd152\\tInd152\\tInd153\\tInd153\\tInd153\\tInd154\\tInd154\\tInd154\\tInd155\\tInd155\\tInd155\\tInd156\\tInd156\\tInd156\\tInd157\\tInd157\\tInd157\\tInd158\\tInd158\\tInd158\\tInd159\\tInd159\\tInd159\\tInd160\\tInd160\\tInd160\\tInd161\\tInd161\\tInd161\\tInd162\\tInd162\\tInd162\\tInd163\\tInd163\\tInd163\\tInd164\\tInd164\\tInd164\\tInd165\\tInd165\\tInd165\\tInd166\\tInd166\\tInd166\\tInd167\\tInd167\\tInd167\\tInd168\\tInd168\\tInd168\\tInd169\\tInd169\\tInd169'"
      ]
     },
     "execution_count": 27,
     "metadata": {},
     "output_type": "execute_result"
    }
   ],
   "source": [
    "# header = [\"marker\", \"allele1\", \"allele2\"]\n",
    "header = []\n",
    "for x in range(170):\n",
    "    header += ['Ind%s' % x]*3\n",
    "header = \"\\t\".join(header)\n",
    "header"
   ]
  },
  {
   "cell_type": "code",
   "execution_count": null,
   "metadata": {},
   "outputs": [],
   "source": [
    "np.savetxt(datadir + \"test_again_numpy.txt.gz\", concat, fmt='%10.6f', delimiter='\\t', newline='\\n', header=header)"
   ]
  },
  {
   "cell_type": "code",
   "execution_count": 20,
   "metadata": {},
   "outputs": [
    {
     "ename": "KeyboardInterrupt",
     "evalue": "",
     "output_type": "error",
     "traceback": [
      "\u001b[0;31m---------------------------------------------------------------------------\u001b[0m",
      "\u001b[0;31mKeyboardInterrupt\u001b[0m                         Traceback (most recent call last)",
      "\u001b[0;32m<ipython-input-20-b30724ce2d23>\u001b[0m in \u001b[0;36m<module>\u001b[0;34m()\u001b[0m\n\u001b[0;32m----> 1\u001b[0;31m \u001b[0mdask\u001b[0m\u001b[0;34m.\u001b[0m\u001b[0marray\u001b[0m\u001b[0;34m.\u001b[0m\u001b[0mto_npy_stack\u001b[0m\u001b[0;34m(\u001b[0m\u001b[0mdatadir\u001b[0m \u001b[0;34m+\u001b[0m \u001b[0;34m\"npy_stacks\"\u001b[0m\u001b[0;34m,\u001b[0m \u001b[0mconcat\u001b[0m\u001b[0;34m)\u001b[0m\u001b[0;34m\u001b[0m\u001b[0m\n\u001b[0m",
      "\u001b[0;32m/mnt/Data/Programs/Anaconda/lib/python3.6/site-packages/dask/array/core.py\u001b[0m in \u001b[0;36mto_npy_stack\u001b[0;34m(dirname, x, axis)\u001b[0m\n\u001b[1;32m   3645\u001b[0m            for i, key in enumerate(core.flatten(xx.__dask_keys__()))}\n\u001b[1;32m   3646\u001b[0m \u001b[0;34m\u001b[0m\u001b[0m\n\u001b[0;32m-> 3647\u001b[0;31m     \u001b[0mcompute_as_if_collection\u001b[0m\u001b[0;34m(\u001b[0m\u001b[0mArray\u001b[0m\u001b[0;34m,\u001b[0m \u001b[0msharedict\u001b[0m\u001b[0;34m.\u001b[0m\u001b[0mmerge\u001b[0m\u001b[0;34m(\u001b[0m\u001b[0mdsk\u001b[0m\u001b[0;34m,\u001b[0m \u001b[0mxx\u001b[0m\u001b[0;34m.\u001b[0m\u001b[0mdask\u001b[0m\u001b[0;34m)\u001b[0m\u001b[0;34m,\u001b[0m \u001b[0mlist\u001b[0m\u001b[0;34m(\u001b[0m\u001b[0mdsk\u001b[0m\u001b[0;34m)\u001b[0m\u001b[0;34m)\u001b[0m\u001b[0;34m\u001b[0m\u001b[0m\n\u001b[0m\u001b[1;32m   3648\u001b[0m \u001b[0;34m\u001b[0m\u001b[0m\n\u001b[1;32m   3649\u001b[0m \u001b[0;34m\u001b[0m\u001b[0m\n",
      "\u001b[0;32m/mnt/Data/Programs/Anaconda/lib/python3.6/site-packages/dask/base.py\u001b[0m in \u001b[0;36mcompute_as_if_collection\u001b[0;34m(cls, dsk, keys, get, **kwargs)\u001b[0m\n\u001b[1;32m    210\u001b[0m     \u001b[0mget\u001b[0m \u001b[0;34m=\u001b[0m \u001b[0mget\u001b[0m \u001b[0;32mor\u001b[0m \u001b[0m_globals\u001b[0m\u001b[0;34m[\u001b[0m\u001b[0;34m'get'\u001b[0m\u001b[0;34m]\u001b[0m \u001b[0;32mor\u001b[0m \u001b[0mcls\u001b[0m\u001b[0;34m.\u001b[0m\u001b[0m__dask_scheduler__\u001b[0m\u001b[0;34m\u001b[0m\u001b[0m\n\u001b[1;32m    211\u001b[0m     \u001b[0mdsk2\u001b[0m \u001b[0;34m=\u001b[0m \u001b[0moptimization_function\u001b[0m\u001b[0;34m(\u001b[0m\u001b[0mcls\u001b[0m\u001b[0;34m)\u001b[0m\u001b[0;34m(\u001b[0m\u001b[0mensure_dict\u001b[0m\u001b[0;34m(\u001b[0m\u001b[0mdsk\u001b[0m\u001b[0;34m)\u001b[0m\u001b[0;34m,\u001b[0m \u001b[0mkeys\u001b[0m\u001b[0;34m,\u001b[0m \u001b[0;34m**\u001b[0m\u001b[0mkwargs\u001b[0m\u001b[0;34m)\u001b[0m\u001b[0;34m\u001b[0m\u001b[0m\n\u001b[0;32m--> 212\u001b[0;31m     \u001b[0;32mreturn\u001b[0m \u001b[0mget\u001b[0m\u001b[0;34m(\u001b[0m\u001b[0mdsk2\u001b[0m\u001b[0;34m,\u001b[0m \u001b[0mkeys\u001b[0m\u001b[0;34m,\u001b[0m \u001b[0;34m**\u001b[0m\u001b[0mkwargs\u001b[0m\u001b[0;34m)\u001b[0m\u001b[0;34m\u001b[0m\u001b[0m\n\u001b[0m\u001b[1;32m    213\u001b[0m \u001b[0;34m\u001b[0m\u001b[0m\n\u001b[1;32m    214\u001b[0m \u001b[0;34m\u001b[0m\u001b[0m\n",
      "\u001b[0;32m/mnt/Data/Programs/Anaconda/lib/python3.6/site-packages/dask/threaded.py\u001b[0m in \u001b[0;36mget\u001b[0;34m(dsk, result, cache, num_workers, **kwargs)\u001b[0m\n\u001b[1;32m     73\u001b[0m     results = get_async(pool.apply_async, len(pool._pool), dsk, result,\n\u001b[1;32m     74\u001b[0m                         \u001b[0mcache\u001b[0m\u001b[0;34m=\u001b[0m\u001b[0mcache\u001b[0m\u001b[0;34m,\u001b[0m \u001b[0mget_id\u001b[0m\u001b[0;34m=\u001b[0m\u001b[0m_thread_get_id\u001b[0m\u001b[0;34m,\u001b[0m\u001b[0;34m\u001b[0m\u001b[0m\n\u001b[0;32m---> 75\u001b[0;31m                         pack_exception=pack_exception, **kwargs)\n\u001b[0m\u001b[1;32m     76\u001b[0m \u001b[0;34m\u001b[0m\u001b[0m\n\u001b[1;32m     77\u001b[0m     \u001b[0;31m# Cleanup pools associated to dead threads\u001b[0m\u001b[0;34m\u001b[0m\u001b[0;34m\u001b[0m\u001b[0m\n",
      "\u001b[0;32m/mnt/Data/Programs/Anaconda/lib/python3.6/site-packages/dask/local.py\u001b[0m in \u001b[0;36mget_async\u001b[0;34m(apply_async, num_workers, dsk, result, cache, get_id, rerun_exceptions_locally, pack_exception, raise_exception, callbacks, dumps, loads, **kwargs)\u001b[0m\n\u001b[1;32m    510\u001b[0m             \u001b[0;31m# Main loop, wait on tasks to finish, insert new ones\u001b[0m\u001b[0;34m\u001b[0m\u001b[0;34m\u001b[0m\u001b[0m\n\u001b[1;32m    511\u001b[0m             \u001b[0;32mwhile\u001b[0m \u001b[0mstate\u001b[0m\u001b[0;34m[\u001b[0m\u001b[0;34m'waiting'\u001b[0m\u001b[0;34m]\u001b[0m \u001b[0;32mor\u001b[0m \u001b[0mstate\u001b[0m\u001b[0;34m[\u001b[0m\u001b[0;34m'ready'\u001b[0m\u001b[0;34m]\u001b[0m \u001b[0;32mor\u001b[0m \u001b[0mstate\u001b[0m\u001b[0;34m[\u001b[0m\u001b[0;34m'running'\u001b[0m\u001b[0;34m]\u001b[0m\u001b[0;34m:\u001b[0m\u001b[0;34m\u001b[0m\u001b[0m\n\u001b[0;32m--> 512\u001b[0;31m                 \u001b[0mkey\u001b[0m\u001b[0;34m,\u001b[0m \u001b[0mres_info\u001b[0m\u001b[0;34m,\u001b[0m \u001b[0mfailed\u001b[0m \u001b[0;34m=\u001b[0m \u001b[0mqueue_get\u001b[0m\u001b[0;34m(\u001b[0m\u001b[0mqueue\u001b[0m\u001b[0;34m)\u001b[0m\u001b[0;34m\u001b[0m\u001b[0m\n\u001b[0m\u001b[1;32m    513\u001b[0m                 \u001b[0;32mif\u001b[0m \u001b[0mfailed\u001b[0m\u001b[0;34m:\u001b[0m\u001b[0;34m\u001b[0m\u001b[0m\n\u001b[1;32m    514\u001b[0m                     \u001b[0mexc\u001b[0m\u001b[0;34m,\u001b[0m \u001b[0mtb\u001b[0m \u001b[0;34m=\u001b[0m \u001b[0mloads\u001b[0m\u001b[0;34m(\u001b[0m\u001b[0mres_info\u001b[0m\u001b[0;34m)\u001b[0m\u001b[0;34m\u001b[0m\u001b[0m\n",
      "\u001b[0;32m/mnt/Data/Programs/Anaconda/lib/python3.6/site-packages/dask/local.py\u001b[0m in \u001b[0;36mqueue_get\u001b[0;34m(q)\u001b[0m\n\u001b[1;32m    149\u001b[0m \u001b[0;32melse\u001b[0m\u001b[0;34m:\u001b[0m\u001b[0;34m\u001b[0m\u001b[0m\n\u001b[1;32m    150\u001b[0m     \u001b[0;32mdef\u001b[0m \u001b[0mqueue_get\u001b[0m\u001b[0;34m(\u001b[0m\u001b[0mq\u001b[0m\u001b[0;34m)\u001b[0m\u001b[0;34m:\u001b[0m\u001b[0;34m\u001b[0m\u001b[0m\n\u001b[0;32m--> 151\u001b[0;31m         \u001b[0;32mreturn\u001b[0m \u001b[0mq\u001b[0m\u001b[0;34m.\u001b[0m\u001b[0mget\u001b[0m\u001b[0;34m(\u001b[0m\u001b[0;34m)\u001b[0m\u001b[0;34m\u001b[0m\u001b[0m\n\u001b[0m\u001b[1;32m    152\u001b[0m \u001b[0;34m\u001b[0m\u001b[0m\n\u001b[1;32m    153\u001b[0m \u001b[0;34m\u001b[0m\u001b[0m\n",
      "\u001b[0;32m/mnt/Data/Programs/Anaconda/lib/python3.6/queue.py\u001b[0m in \u001b[0;36mget\u001b[0;34m(self, block, timeout)\u001b[0m\n\u001b[1;32m    162\u001b[0m             \u001b[0;32melif\u001b[0m \u001b[0mtimeout\u001b[0m \u001b[0;32mis\u001b[0m \u001b[0;32mNone\u001b[0m\u001b[0;34m:\u001b[0m\u001b[0;34m\u001b[0m\u001b[0m\n\u001b[1;32m    163\u001b[0m                 \u001b[0;32mwhile\u001b[0m \u001b[0;32mnot\u001b[0m \u001b[0mself\u001b[0m\u001b[0;34m.\u001b[0m\u001b[0m_qsize\u001b[0m\u001b[0;34m(\u001b[0m\u001b[0;34m)\u001b[0m\u001b[0;34m:\u001b[0m\u001b[0;34m\u001b[0m\u001b[0m\n\u001b[0;32m--> 164\u001b[0;31m                     \u001b[0mself\u001b[0m\u001b[0;34m.\u001b[0m\u001b[0mnot_empty\u001b[0m\u001b[0;34m.\u001b[0m\u001b[0mwait\u001b[0m\u001b[0;34m(\u001b[0m\u001b[0;34m)\u001b[0m\u001b[0;34m\u001b[0m\u001b[0m\n\u001b[0m\u001b[1;32m    165\u001b[0m             \u001b[0;32melif\u001b[0m \u001b[0mtimeout\u001b[0m \u001b[0;34m<\u001b[0m \u001b[0;36m0\u001b[0m\u001b[0;34m:\u001b[0m\u001b[0;34m\u001b[0m\u001b[0m\n\u001b[1;32m    166\u001b[0m                 \u001b[0;32mraise\u001b[0m \u001b[0mValueError\u001b[0m\u001b[0;34m(\u001b[0m\u001b[0;34m\"'timeout' must be a non-negative number\"\u001b[0m\u001b[0;34m)\u001b[0m\u001b[0;34m\u001b[0m\u001b[0m\n",
      "\u001b[0;32m/mnt/Data/Programs/Anaconda/lib/python3.6/threading.py\u001b[0m in \u001b[0;36mwait\u001b[0;34m(self, timeout)\u001b[0m\n\u001b[1;32m    293\u001b[0m         \u001b[0;32mtry\u001b[0m\u001b[0;34m:\u001b[0m    \u001b[0;31m# restore state no matter what (e.g., KeyboardInterrupt)\u001b[0m\u001b[0;34m\u001b[0m\u001b[0m\n\u001b[1;32m    294\u001b[0m             \u001b[0;32mif\u001b[0m \u001b[0mtimeout\u001b[0m \u001b[0;32mis\u001b[0m \u001b[0;32mNone\u001b[0m\u001b[0;34m:\u001b[0m\u001b[0;34m\u001b[0m\u001b[0m\n\u001b[0;32m--> 295\u001b[0;31m                 \u001b[0mwaiter\u001b[0m\u001b[0;34m.\u001b[0m\u001b[0macquire\u001b[0m\u001b[0;34m(\u001b[0m\u001b[0;34m)\u001b[0m\u001b[0;34m\u001b[0m\u001b[0m\n\u001b[0m\u001b[1;32m    296\u001b[0m                 \u001b[0mgotit\u001b[0m \u001b[0;34m=\u001b[0m \u001b[0;32mTrue\u001b[0m\u001b[0;34m\u001b[0m\u001b[0m\n\u001b[1;32m    297\u001b[0m             \u001b[0;32melse\u001b[0m\u001b[0;34m:\u001b[0m\u001b[0;34m\u001b[0m\u001b[0m\n",
      "\u001b[0;31mKeyboardInterrupt\u001b[0m: "
     ]
    }
   ],
   "source": [
    "dask.array.to_npy_stack(datadir + \"npy_stacks\", concat)"
   ]
  },
  {
   "cell_type": "code",
   "execution_count": 28,
   "metadata": {},
   "outputs": [],
   "source": [
    "np.savetxt(datadir + \"test_numpy.txt.gz\", tester, fmt='%10.6f', delimiter='\\t', newline='\\n', header=header, comments='')"
   ]
  },
  {
   "cell_type": "code",
   "execution_count": 33,
   "metadata": {},
   "outputs": [],
   "source": [
    "new_cols = open(datadir + \"new_cols.txt\", \"w\")\n",
    "head = \"markers\\tallele1\\tallele2\"\n",
    "print(head, file=new_cols)\n",
    "for val in zip(markers, ref_alleles, alt_alleles):\n",
    "    line = \"\\t\".join(val)\n",
    "    print(line, file=new_cols)\n",
    "print(\"\\n\", file=new_cols)"
   ]
  },
  {
   "cell_type": "code",
   "execution_count": null,
   "metadata": {},
   "outputs": [],
   "source": []
  }
 ],
 "metadata": {
  "kernelspec": {
   "display_name": "Python 3",
   "language": "python",
   "name": "python3"
  },
  "language_info": {
   "codemirror_mode": {
    "name": "ipython",
    "version": 3
   },
   "file_extension": ".py",
   "mimetype": "text/x-python",
   "name": "python",
   "nbconvert_exporter": "python",
   "pygments_lexer": "ipython3",
   "version": "3.6.4"
  }
 },
 "nbformat": 4,
 "nbformat_minor": 2
}
